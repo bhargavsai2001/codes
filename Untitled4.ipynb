{
  "nbformat": 4,
  "nbformat_minor": 0,
  "metadata": {
    "colab": {
      "name": "Untitled4.ipynb",
      "provenance": [],
      "collapsed_sections": [],
      "authorship_tag": "ABX9TyMAQWB2QDGfpsqoG2/spd4t",
      "include_colab_link": true
    },
    "kernelspec": {
      "name": "python3",
      "display_name": "Python 3"
    }
  },
  "cells": [
    {
      "cell_type": "markdown",
      "metadata": {
        "id": "view-in-github",
        "colab_type": "text"
      },
      "source": [
        "<a href=\"https://colab.research.google.com/github/bhargavsai2001/codes/blob/main/Untitled4.ipynb\" target=\"_parent\"><img src=\"https://colab.research.google.com/assets/colab-badge.svg\" alt=\"Open In Colab\"/></a>"
      ]
    },
    {
      "cell_type": "code",
      "metadata": {
        "colab": {
          "base_uri": "https://localhost:8080/"
        },
        "id": "ZySrfBrt1dHT",
        "outputId": "1451cd6f-4b2c-4cb0-b373-1b6627132c9e"
      },
      "source": [
        "from collections import Counter\r\n",
        "list = [12,4,23,5,6,23,45,78,77,4,12,4,23,5,6,23,45,78,77,4]\r\n",
        "cnt= Counter(list)\r\n",
        "print(cnt)\r\n",
        "print(cnt.most_common())\r\n"
      ],
      "execution_count": null,
      "outputs": [
        {
          "output_type": "stream",
          "text": [
            "Counter({4: 4, 23: 4, 12: 2, 5: 2, 6: 2, 45: 2, 78: 2, 77: 2})\n",
            "[(4, 4), (23, 4), (12, 2), (5, 2), (6, 2), (45, 2), (78, 2), (77, 2)]\n"
          ],
          "name": "stdout"
        }
      ]
    },
    {
      "cell_type": "code",
      "metadata": {
        "colab": {
          "base_uri": "https://localhost:8080/"
        },
        "id": "QLRXOxEd-rb6",
        "outputId": "1d158830-7b45-4ef2-dc38-fe343ca50945"
      },
      "source": [
        "from collections import OrderedDict\r\n",
        "ob = OrderedDict()\r\n",
        "ob['x'] = 1\r\n",
        "ob['y'] = 2\r\n",
        "ob['z'] = 3\r\n",
        "ob['m'] = 4\r\n",
        "print(\"Before Deletion\")\r\n",
        "\r\n",
        "for key in ob.items():\r\n",
        "  print(key)\r\n",
        "ob.pop('y')\r\n",
        "print(\"After Deletion\")\r\n",
        "\r\n",
        "for key in ob.items():\r\n",
        "  print(key)\r\n"
      ],
      "execution_count": null,
      "outputs": [
        {
          "output_type": "stream",
          "text": [
            "Before Deletion\n",
            "('x', 1)\n",
            "('y', 2)\n",
            "('z', 3)\n",
            "('m', 4)\n",
            "After Deletion\n",
            "('x', 1)\n",
            "('z', 3)\n",
            "('m', 4)\n"
          ],
          "name": "stdout"
        }
      ]
    },
    {
      "cell_type": "code",
      "metadata": {
        "colab": {
          "base_uri": "https://localhost:8080/"
        },
        "id": "JpLMWYb5Hksm",
        "outputId": "3b54a3a0-1818-49e9-8381-454feaeaad54"
      },
      "source": [
        "n=10\r\n",
        "y=0\r\n",
        "\r\n",
        "try:\r\n",
        "  x=n/y\r\n",
        "except NameError:\r\n",
        "  print(\"Name error exception in the program\")\r\n",
        "except ZeroDivisionError:\r\n",
        "  print(\"Other exception\")\r\n",
        "\r\n",
        "print(\"End of the program\")"
      ],
      "execution_count": null,
      "outputs": [
        {
          "output_type": "stream",
          "text": [
            "Other exception\n",
            "End of the program\n"
          ],
          "name": "stdout"
        }
      ]
    },
    {
      "cell_type": "code",
      "metadata": {
        "colab": {
          "base_uri": "https://localhost:8080/"
        },
        "id": "XHebkJqUJmoZ",
        "outputId": "66685c43-9519-4a46-e2f2-f149baa0e295"
      },
      "source": [
        "import csv\r\n",
        "f = open('/content/student.csv','r')\r\n",
        "rd = csv.reader(f)\r\n",
        "print(\"Content present in the CSV file\")\r\n",
        "for row in rd:\r\n",
        "  print(row)"
      ],
      "execution_count": null,
      "outputs": [
        {
          "output_type": "stream",
          "text": [
            "Content present in the CSV file\n",
            "['\\ufeffname', 'roll no', 'marks']\n",
            "['sumanth', '100', '95']\n",
            "['vamsi', '101', '80']\n",
            "['ravi', '102', '80']\n",
            "['srinivas', '103', '80']\n",
            "['dinesh', '104', '90']\n"
          ],
          "name": "stdout"
        }
      ]
    },
    {
      "cell_type": "code",
      "metadata": {
        "colab": {
          "base_uri": "https://localhost:8080/",
          "height": 178
        },
        "id": "OHREvJoBPvln",
        "outputId": "f0e53fa3-90d8-4683-fbcb-efe676bfbb8f"
      },
      "source": [
        "f=open('/content/student.txt')\r\n",
        "f.write(\"Hello world\")"
      ],
      "execution_count": null,
      "outputs": [
        {
          "output_type": "error",
          "ename": "FileNotFoundError",
          "evalue": "ignored",
          "traceback": [
            "\u001b[0;31m---------------------------------------------------------------------------\u001b[0m",
            "\u001b[0;31mFileNotFoundError\u001b[0m                         Traceback (most recent call last)",
            "\u001b[0;32m<ipython-input-20-74946d92d904>\u001b[0m in \u001b[0;36m<module>\u001b[0;34m()\u001b[0m\n\u001b[0;32m----> 1\u001b[0;31m \u001b[0mf\u001b[0m\u001b[0;34m=\u001b[0m\u001b[0mopen\u001b[0m\u001b[0;34m(\u001b[0m\u001b[0;34m'/content/student.txt'\u001b[0m\u001b[0;34m)\u001b[0m\u001b[0;34m\u001b[0m\u001b[0;34m\u001b[0m\u001b[0m\n\u001b[0m\u001b[1;32m      2\u001b[0m \u001b[0mf\u001b[0m\u001b[0;34m.\u001b[0m\u001b[0mwrite\u001b[0m\u001b[0;34m(\u001b[0m\u001b[0;34m\"Hello world\"\u001b[0m\u001b[0;34m)\u001b[0m\u001b[0;34m\u001b[0m\u001b[0;34m\u001b[0m\u001b[0m\n",
            "\u001b[0;31mFileNotFoundError\u001b[0m: [Errno 2] No such file or directory: '/content/student.txt'"
          ]
        }
      ]
    }
  ]
}